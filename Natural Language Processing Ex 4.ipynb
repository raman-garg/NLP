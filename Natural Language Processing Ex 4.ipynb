{
 "cells": [
  {
   "cell_type": "code",
   "execution_count": 1,
   "metadata": {},
   "outputs": [],
   "source": [
    "from nltk.tokenize import word_tokenize\n",
    "from nltk.tag import pos_tag\n",
    "import numpy as np, pandas as pd\n",
    "import nltk\n",
    "from nltk.corpus import stopwords"
   ]
  },
  {
   "cell_type": "code",
   "execution_count": 2,
   "metadata": {},
   "outputs": [],
   "source": [
    "text = pd.read_csv(\"NLPdataEx3&4-data_in.txt\", header = -1)"
   ]
  },
  {
   "cell_type": "code",
   "execution_count": 3,
   "metadata": {},
   "outputs": [
    {
     "data": {
      "text/html": [
       "<div>\n",
       "<style>\n",
       "    .dataframe thead tr:only-child th {\n",
       "        text-align: right;\n",
       "    }\n",
       "\n",
       "    .dataframe thead th {\n",
       "        text-align: left;\n",
       "    }\n",
       "\n",
       "    .dataframe tbody tr th {\n",
       "        vertical-align: top;\n",
       "    }\n",
       "</style>\n",
       "<table border=\"1\" class=\"dataframe\">\n",
       "  <thead>\n",
       "    <tr style=\"text-align: right;\">\n",
       "      <th></th>\n",
       "      <th>0</th>\n",
       "      <th>1</th>\n",
       "    </tr>\n",
       "  </thead>\n",
       "  <tbody>\n",
       "    <tr>\n",
       "      <th>0</th>\n",
       "      <td>Hello there</td>\n",
       "      <td>how are you? Weather is awesome. Its raining ...</td>\n",
       "    </tr>\n",
       "    <tr>\n",
       "      <th>1</th>\n",
       "      <td>Hello Mr. Raja</td>\n",
       "      <td>how are you? Weather is awesome. Its raining ...</td>\n",
       "    </tr>\n",
       "    <tr>\n",
       "      <th>2</th>\n",
       "      <td>Hello Mr. Raja</td>\n",
       "      <td>how are you. Weather is bad. Its heavily rain...</td>\n",
       "    </tr>\n",
       "    <tr>\n",
       "      <th>3</th>\n",
       "      <td>NLP is great technique. It is nice to learn th...</td>\n",
       "      <td>NaN</td>\n",
       "    </tr>\n",
       "    <tr>\n",
       "      <th>4</th>\n",
       "      <td>AI is making difference in this world now.  It...</td>\n",
       "      <td>NaN</td>\n",
       "    </tr>\n",
       "  </tbody>\n",
       "</table>\n",
       "</div>"
      ],
      "text/plain": [
       "                                                   0  \\\n",
       "0                                        Hello there   \n",
       "1                                     Hello Mr. Raja   \n",
       "2                                     Hello Mr. Raja   \n",
       "3  NLP is great technique. It is nice to learn th...   \n",
       "4  AI is making difference in this world now.  It...   \n",
       "\n",
       "                                                   1  \n",
       "0   how are you? Weather is awesome. Its raining ...  \n",
       "1   how are you? Weather is awesome. Its raining ...  \n",
       "2   how are you. Weather is bad. Its heavily rain...  \n",
       "3                                                NaN  \n",
       "4                                                NaN  "
      ]
     },
     "execution_count": 3,
     "metadata": {},
     "output_type": "execute_result"
    }
   ],
   "source": [
    "text"
   ]
  },
  {
   "cell_type": "code",
   "execution_count": 4,
   "metadata": {},
   "outputs": [
    {
     "data": {
      "text/plain": [
       "pandas.core.frame.DataFrame"
      ]
     },
     "execution_count": 4,
     "metadata": {},
     "output_type": "execute_result"
    }
   ],
   "source": [
    "type(text)"
   ]
  },
  {
   "cell_type": "code",
   "execution_count": 5,
   "metadata": {},
   "outputs": [],
   "source": [
    "v1 = lambda x:str(x)\n",
    "text = text.apply(v1)"
   ]
  },
  {
   "cell_type": "code",
   "execution_count": 6,
   "metadata": {},
   "outputs": [
    {
     "data": {
      "text/plain": [
       "pandas.core.series.Series"
      ]
     },
     "execution_count": 6,
     "metadata": {},
     "output_type": "execute_result"
    }
   ],
   "source": [
    "type(text)"
   ]
  },
  {
   "cell_type": "code",
   "execution_count": 7,
   "metadata": {},
   "outputs": [
    {
     "name": "stdout",
     "output_type": "stream",
     "text": [
      "['0', 'Hello', 'there', '1', 'Hello', 'Mr.', 'Raja', '2', 'Hello', 'Mr.', 'Raja', '3', 'NLP', 'is', 'great', 'technique', '.', 'It', 'is', 'nice', 'to', 'learn', 'th', '...', '4', 'AI', 'is', 'making', 'difference', 'in', 'this', 'world', 'now', '.', 'It', '...', 'Name', ':', '0', ',', 'dtype', ':', 'object']\n",
      "['0', 'how', 'are', 'you', '?', 'Weather', 'is', 'awesome', '.', 'Its', 'raining', '...', '1', 'how', 'are', 'you', '?', 'Weather', 'is', 'awesome', '.', 'Its', 'raining', '...', '2', 'how', 'are', 'you', '.', 'Weather', 'is', 'bad', '.', 'Its', 'heavily', 'rain', '...', '3', 'NaN', '4', 'NaN', 'Name', ':', '1', ',', 'dtype', ':', 'object']\n",
      "['0', '?', 'Weather', 'awesome', '.', 'Its', 'raining', '...', '1', '?', 'Weather', 'awesome', '.', 'Its', 'raining', '...', '2', '.', 'Weather', 'bad', '.', 'Its', 'heavily', 'rain', '...', '3', 'NaN', '4', 'NaN', 'Name', ':', '1', ',', 'dtype', ':', 'object']\n"
     ]
    }
   ],
   "source": [
    "#removing stop words\n",
    "stopWords = set(stopwords.words('english'))\n",
    "for i in text:\n",
    "    word = word_tokenize(i)\n",
    "    print(word)\n",
    "    \n",
    "wordsFiltered = []\n",
    "for w in word:\n",
    "    if w not in stopWords:\n",
    "        wordsFiltered.append(w)\n",
    "\n",
    "print(wordsFiltered)"
   ]
  },
  {
   "cell_type": "code",
   "execution_count": 8,
   "metadata": {},
   "outputs": [
    {
     "data": {
      "text/plain": [
       "list"
      ]
     },
     "execution_count": 8,
     "metadata": {},
     "output_type": "execute_result"
    }
   ],
   "source": [
    "type(word)"
   ]
  },
  {
   "cell_type": "code",
   "execution_count": 9,
   "metadata": {},
   "outputs": [
    {
     "data": {
      "text/plain": [
       "list"
      ]
     },
     "execution_count": 9,
     "metadata": {},
     "output_type": "execute_result"
    }
   ],
   "source": [
    "type(wordsFiltered)"
   ]
  },
  {
   "cell_type": "code",
   "execution_count": 10,
   "metadata": {},
   "outputs": [
    {
     "name": "stdout",
     "output_type": "stream",
     "text": [
      "0\n",
      "?\n",
      "weather\n",
      "awesom\n",
      ".\n",
      "it\n",
      "rain\n",
      "...\n",
      "1\n",
      "?\n",
      "weather\n",
      "awesom\n",
      ".\n",
      "it\n",
      "rain\n",
      "...\n",
      "2\n",
      ".\n",
      "weather\n",
      "bad\n",
      ".\n",
      "it\n",
      "heavili\n",
      "rain\n",
      "...\n",
      "3\n",
      "nan\n",
      "4\n",
      "nan\n",
      "name\n",
      ":\n",
      "1\n",
      ",\n",
      "dtype\n",
      ":\n",
      "object\n"
     ]
    }
   ],
   "source": [
    "#stemming\n",
    "from nltk.stem import PorterStemmer\n",
    "ps = PorterStemmer()\n",
    "list_words = wordsFiltered\n",
    "for word in list_words:\n",
    "    print(ps.stem(word))"
   ]
  },
  {
   "cell_type": "code",
   "execution_count": 11,
   "metadata": {},
   "outputs": [
    {
     "name": "stdout",
     "output_type": "stream",
     "text": [
      "0\n",
      "?\n",
      "Weather\n",
      "awesome\n",
      ".\n",
      "Its\n",
      "raining\n",
      "...\n",
      "1\n",
      "?\n",
      "Weather\n",
      "awesome\n",
      ".\n",
      "Its\n",
      "raining\n",
      "...\n",
      "2\n",
      ".\n",
      "Weather\n",
      "bad\n",
      ".\n",
      "Its\n",
      "heavily\n",
      "rain\n",
      "...\n",
      "3\n",
      "NaN\n",
      "4\n",
      "NaN\n",
      "Name\n",
      ":\n",
      "1\n",
      ",\n",
      "dtype\n",
      ":\n",
      "object\n"
     ]
    }
   ],
   "source": [
    "#lemmatizing\n",
    "from nltk import stem\n",
    "wn_lemat = stem.WordNetLemmatizer()\n",
    "for word in list_words:\n",
    "    print (wn_lemat.lemmatize(word))"
   ]
  },
  {
   "cell_type": "code",
   "execution_count": null,
   "metadata": {},
   "outputs": [],
   "source": []
  }
 ],
 "metadata": {
  "kernelspec": {
   "display_name": "Python 3",
   "language": "python",
   "name": "python3"
  },
  "language_info": {
   "codemirror_mode": {
    "name": "ipython",
    "version": 3
   },
   "file_extension": ".py",
   "mimetype": "text/x-python",
   "name": "python",
   "nbconvert_exporter": "python",
   "pygments_lexer": "ipython3",
   "version": "3.6.2"
  }
 },
 "nbformat": 4,
 "nbformat_minor": 2
}
